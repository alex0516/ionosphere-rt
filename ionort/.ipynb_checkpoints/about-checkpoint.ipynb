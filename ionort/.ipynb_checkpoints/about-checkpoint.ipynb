{
 "cells": [
  {
   "cell_type": "markdown",
   "metadata": {},
   "source": [
    "# Ionospheric Raytracing\n",
    "\n",
    "The idea is to set up equations to simulate the ray of an ionosonde as it travels through the atmosphere.\n",
    "\n",
    "## Introduction\n",
    "\n",
    "There are several basic steps to the algorithm.\n",
    "\n",
    "1. Outline the generic iteration/integration solving process. (In FORTRAN they did this manually, here we don't, we just specify the problem to solve)\n",
    "2. The problem is as follows: calculate the Hamiltonian as defined in the paper\n",
    "3. The Hamiltonian requires the calculation of the refractive index for a given discrete grid box using a given ionospheric model\n",
    "\n",
    "\n",
    "## solving\n",
    "\n",
    "## Hamiltonian\n",
    "\n",
    "The Hamiltonian is defined in equation A.7 in the paper."
   ]
  },
  {
   "cell_type": "code",
   "execution_count": 1,
   "metadata": {},
   "outputs": [
    {
     "ename": "MethodError",
     "evalue": "MethodError: no method matching GenerateHamiltonian(::Int64, ::Int64)\nClosest candidates are:\n  GenerateHamiltonian(::Any) at In[1]:5",
     "output_type": "error",
     "traceback": [
      "MethodError: no method matching GenerateHamiltonian(::Int64, ::Int64)\nClosest candidates are:\n  GenerateHamiltonian(::Any) at In[1]:5",
      "",
      "Stacktrace:",
      " [1] top-level scope at In[1]:10"
     ]
    }
   ],
   "source": [
    "using PhysicalConstants.CODATA2018\n",
    "using DiffEqPhysics\n",
    "using DifferentialEquations\n",
    "function GenerateHamiltonian(freq)\n",
    "    function Hamiltonian((r, theta, phi), (k_r, k_theta, k_phi))\n",
    "        1/2((SpeedOfLightInVacuum^2/freq^2)(k_r^2 + k_theta^2 + k_phi^2) - n^2)\n",
    "    end\n",
    "    return Hamiltonian\n",
    "end\n",
    "\n",
    "prob = HamiltonianProblem(GenerateHamiltonian(0, 0), (0,0,0), (0,0,0), (0.0, 1.0))"
   ]
  },
  {
   "cell_type": "markdown",
   "metadata": {},
   "source": [
    "## Refractive Index\n",
    "\n",
    "Using the Appleton–Hartree equation:\n",
    "\n",
    "$$\n",
    "n^2 = 1 - \\frac{X}{1 - iZ - \\frac{\\frac{1}{2}Y^2\\sin^2\\theta}{1 - X - iZ} \\pm \\frac{1}{1 - X - iZ}\\left(\\frac{1}{4}Y^4\\sin^4\\theta + Y^2\\cos^2\\theta\\left(1 - X - iZ\\right)^2\\right)^{1/2}}\n",
    "$$\n",
    "\n",
    "where\n",
    "\n",
    "\n",
    "$$ n = \\textbf{complex refractive index} $$\n",
    "\n",
    "$$ i = \\sqrt{-1} $$\n",
    "\n",
    "$$ X = \\frac{\\omega_0^2}{\\omega^2} $$\n",
    "\n",
    "$$ Y = \\frac{\\omega_H}{\\omega} $$\n",
    "\n",
    "$$ Z = \\frac{\\nu}{\\omega} $$\n",
    "\n",
    "$$ \\nu  = \\textbf{electron collision frequency} $$\n",
    "\n",
    "$$ \\omega = 2\\pi f = \\textbf{(radial frequency)} $$ \n",
    "\n",
    "$$ f  = \\textbf{wave frequency (cycles per second, or Hertz)} $$\n",
    "\n",
    "\n",
    "$$ \\omega_0 = 2\\pi f_0 = \\sqrt{\\frac{Ne^2}{\\epsilon_0 m}}  = \\textbf{electron plasma frequency} $$\n",
    "\n",
    "$$ \\omega_H = 2\\pi f_H = \\frac{B_0 |e|}{m} = \\textbf{electron gyro frequency} $$\n",
    "\n",
    "$$ \\epsilon_0 = \\textbf{permitivity of free space}$$ \n",
    "\n",
    "$$ B_0  = \\textbf{ambient magnetic field strength} $$\n",
    "\n",
    "$$ e = \\textbf{electron charge} $$\n",
    "\n",
    "$$ m = \\textbf{electron mass} $$\n",
    "\n",
    "$$ \\theta = \\textbf{angle between the ambient magnetic field vector and the wave vector} $$"
   ]
  },
  {
   "cell_type": "code",
   "execution_count": 2,
   "metadata": {},
   "outputs": [
    {
     "ename": "LoadError",
     "evalue": "UndefVarError: @u_str not defined",
     "output_type": "error",
     "traceback": [
      "UndefVarError: @u_str not defined",
      ""
     ]
    }
   ],
   "source": [
    "d = 10e12u\"m^-3\""
   ]
  },
  {
   "cell_type": "code",
   "execution_count": 93,
   "metadata": {},
   "outputs": [
    {
     "data": {
      "text/plain": [
       "1060.154319011352 s^-1"
      ]
     },
     "execution_count": 93,
     "metadata": {},
     "output_type": "execute_result"
    }
   ],
   "source": [
    "plasma_freq(density::typeof(1.0u\"m^-3\")) = upreferred(sqrt((density * (ElementaryCharge^2))/(ElectronMass*VacuumElectricPermittivity)))\n",
    "plasma_freq(10u\"ft^-3\")"
   ]
  },
  {
   "cell_type": "code",
   "execution_count": null,
   "metadata": {},
   "outputs": [],
   "source": [
    "gyro_freq(b) = b*ElementaryCharge/ElectronMass"
   ]
  },
  {
   "cell_type": "code",
   "execution_count": 94,
   "metadata": {},
   "outputs": [
    {
     "data": {
      "text/plain": [
       "ah (generic function with 1 method)"
      ]
     },
     "execution_count": 94,
     "metadata": {},
     "output_type": "execute_result"
    }
   ],
   "source": [
    "v = 0.15u\"mHz\"\n",
    "\n",
    "function ah(freq)\n",
    "    w = 2 * pi * freq\n",
    "    X =  plasma_freq(d)^2/w\n",
    "    Y = gyro_freq(b)\n",
    "    Z = v/w\n",
    "end"
   ]
  },
  {
   "cell_type": "code",
   "execution_count": 81,
   "metadata": {},
   "outputs": [
    {
     "data": {
      "text/plain": [
       "196.8503937007874 kg"
      ]
     },
     "execution_count": 81,
     "metadata": {},
     "output_type": "execute_result"
    }
   ],
   "source": [
    "notsosimple = 60u\"m/ft*kg\"\n",
    "float(upreferred(notsosimple))"
   ]
  },
  {
   "cell_type": "code",
   "execution_count": 60,
   "metadata": {},
   "outputs": [
    {
     "ename": "Unitful.DimensionError",
     "evalue": "DimensionError: s and Hz are not dimensionally compatible.",
     "output_type": "error",
     "traceback": [
      "DimensionError: s and Hz are not dimensionally compatible.",
      "",
      "Stacktrace:",
      " [1] #s56#155(::Any, ::Any, ::Any) at /home/alex/.julia/packages/Unitful/dZYmO/src/conversion.jl:12",
      " [2] (::Core.GeneratedFunctionStub)(::Any, ::Vararg{Any,N} where N) at ./boot.jl:524",
      " [3] uconvert(::Unitful.FreeUnits{(s,),𝐓,nothing}, ::Quantity{Int64,𝐓^-1,Unitful.FreeUnits{(Hz,),𝐓^-1,nothing}}) at /home/alex/.julia/packages/Unitful/dZYmO/src/conversion.jl:74",
      " [4] top-level scope at In[60]:1"
     ]
    }
   ],
   "source": [
    "uconvert(u\"s\", 60u\"Hz\")\n"
   ]
  },
  {
   "cell_type": "code",
   "execution_count": 78,
   "metadata": {},
   "outputs": [
    {
     "data": {
      "text/plain": [
       "2.839302485541182e7 s^-1"
      ]
     },
     "execution_count": 78,
     "metadata": {},
     "output_type": "execute_result"
    }
   ],
   "source": [
    "con = upreferred((ElementaryCharge/(2*pi))*1/sqrt(ElectronMass*VacuumElectricPermittivity))\n",
    "l = con*sqrt(10e12u\"m^-3\")\n",
    "#(1/l)^2"
   ]
  },
  {
   "cell_type": "code",
   "execution_count": 20,
   "metadata": {},
   "outputs": [
    {
     "data": {
      "text/plain": [
       "1000 s^-1"
      ]
     },
     "execution_count": 20,
     "metadata": {},
     "output_type": "execute_result"
    }
   ],
   "source": [
    "mhz = 1000u\"s^-1\""
   ]
  },
  {
   "cell_type": "code",
   "execution_count": 13,
   "metadata": {},
   "outputs": [
    {
     "data": {
      "text/plain": [
       "4.806529901999999e-19 A s"
      ]
     },
     "execution_count": 13,
     "metadata": {},
     "output_type": "execute_result"
    }
   ],
   "source": [
    "using Unitful\n",
    "upreferred(ElementaryCharge *3)"
   ]
  },
  {
   "cell_type": "markdown",
   "metadata": {},
   "source": [
    "The above should be around 9 Mhz"
   ]
  },
  {
   "cell_type": "code",
   "execution_count": 3,
   "metadata": {},
   "outputs": [
    {
     "data": {
      "text/plain": [
       "RefractiveIndex (generic function with 1 method)"
      ]
     },
     "execution_count": 3,
     "metadata": {},
     "output_type": "execute_result"
    }
   ],
   "source": [
    "function RefractiveIndex()\n",
    "    w = 2 * pi * freq\n",
    "    X =  plasma_freq(d)^2/w\n",
    "    Y = gyro_freq(b)\n",
    "    Z = v/w\n",
    "    swap = 1 # switches extraordinary vs ordinary rays\n",
    "    return 1 - X / (1 - (Z)im - (Y^2)/(2*(1-Z-(Z)im))+swap*((Y^4)/(4*(1-X-(Z)im)^2)+Y^2)^(1/2))\n",
    "end"
   ]
  },
  {
   "cell_type": "code",
   "execution_count": 4,
   "metadata": {},
   "outputs": [
    {
     "data": {
      "text/plain": [
       "hamiltonian! (generic function with 1 method)"
      ]
     },
     "execution_count": 4,
     "metadata": {},
     "output_type": "execute_result"
    }
   ],
   "source": [
    "function hamiltonian!(du, u, p, t)\n",
    "    (r, theta, phi), (k_r, k_theta, k_phi)\n",
    "    1/2((SpeedOfLightInVacuum^2/freq^2)(k_r^2 + k_theta^2 + k_phi^2) - n^2)\n",
    "end"
   ]
  },
  {
   "cell_type": "code",
   "execution_count": 10,
   "metadata": {},
   "outputs": [
    {
     "ename": "LoadError",
     "evalue": "syntax: unexpected comma in matrix expression",
     "output_type": "error",
     "traceback": [
      "syntax: unexpected comma in matrix expression",
      ""
     ]
    }
   ],
   "source": [
    "using ModelingToolkit\n",
    "\n",
    "### Define a differential equation system\n",
    "\n",
    "@parameters τ\n",
    "@register H((r, θ, ϕ))\n",
    "@variables r(τ), θ(τ), ϕ(τ), k_r(τ), k_θ(τ), k_ϕ(τ)\n",
    "@derivatives D'~(τ)\n",
    "\n",
    "eqs = [D(r) ~ D(H)\n",
    "       D(θ) ~ x*(ρ-z)-y,\n",
    "       D(ϕ) ~ x*y - β*z]\n",
    "de = ODESystem(eqs, t, [x,y,z], [σ,ρ,β])\n",
    "ode_f = ODEFunction(de)\n",
    "\n",
    "### Use in DifferentialEquations.jl\n",
    "\n",
    "using OrdinaryDiffEq\n",
    "u₀ = ones(3)\n",
    "tspan = (0.0,100.0)\n",
    "p = [10.0,28.0,10/3]\n",
    "prob = ODEProblem(ode_f,u₀,tspan,p)\n",
    "sol = solve(prob,Tsit5())\n",
    "\n",
    "using Plots\n",
    "plot(sol,vars=(1,2,3))"
   ]
  },
  {
   "cell_type": "code",
   "execution_count": 9,
   "metadata": {},
   "outputs": [
    {
     "data": {
      "image/svg+xml": [
       "<?xml version=\"1.0\" encoding=\"utf-8\"?>\n",
       "<svg xmlns=\"http://www.w3.org/2000/svg\" xmlns:xlink=\"http://www.w3.org/1999/xlink\" width=\"600\" height=\"400\" viewBox=\"0 0 2400 1600\">\n",
       "<defs>\n",
       "  <clipPath id=\"clip3400\">\n",
       "    <rect x=\"0\" y=\"0\" width=\"2400\" height=\"1600\"/>\n",
       "  </clipPath>\n",
       "</defs>\n",
       "<path clip-path=\"url(#clip3400)\" d=\"\n",
       "M0 1600 L2400 1600 L2400 0 L0 0  Z\n",
       "  \" fill=\"#ffffff\" fill-rule=\"evenodd\" fill-opacity=\"1\"/>\n",
       "<defs>\n",
       "  <clipPath id=\"clip3401\">\n",
       "    <rect x=\"480\" y=\"0\" width=\"1681\" height=\"1600\"/>\n",
       "  </clipPath>\n",
       "</defs>\n",
       "<path clip-path=\"url(#clip3400)\" d=\"\n",
       "M167.279 1487.47 L2352.76 1487.47 L2352.76 47.2441 L167.279 47.2441  Z\n",
       "  \" fill=\"#ffffff\" fill-rule=\"evenodd\" fill-opacity=\"1\"/>\n",
       "<defs>\n",
       "  <clipPath id=\"clip3402\">\n",
       "    <rect x=\"167\" y=\"47\" width=\"2186\" height=\"1441\"/>\n",
       "  </clipPath>\n",
       "</defs>\n",
       "<polyline clip-path=\"url(#clip3402)\" style=\"stroke:#000000; stroke-width:2; stroke-opacity:0.1; fill:none\" points=\"\n",
       "  542.978,1487.47 542.978,47.2441 \n",
       "  \"/>\n",
       "<polyline clip-path=\"url(#clip3402)\" style=\"stroke:#000000; stroke-width:2; stroke-opacity:0.1; fill:none\" points=\"\n",
       "  918.677,1487.47 918.677,47.2441 \n",
       "  \"/>\n",
       "<polyline clip-path=\"url(#clip3402)\" style=\"stroke:#000000; stroke-width:2; stroke-opacity:0.1; fill:none\" points=\"\n",
       "  1294.38,1487.47 1294.38,47.2441 \n",
       "  \"/>\n",
       "<polyline clip-path=\"url(#clip3402)\" style=\"stroke:#000000; stroke-width:2; stroke-opacity:0.1; fill:none\" points=\"\n",
       "  1670.07,1487.47 1670.07,47.2441 \n",
       "  \"/>\n",
       "<polyline clip-path=\"url(#clip3402)\" style=\"stroke:#000000; stroke-width:2; stroke-opacity:0.1; fill:none\" points=\"\n",
       "  2045.77,1487.47 2045.77,47.2441 \n",
       "  \"/>\n",
       "<polyline clip-path=\"url(#clip3402)\" style=\"stroke:#000000; stroke-width:2; stroke-opacity:0.1; fill:none\" points=\"\n",
       "  167.279,1453.51 2352.76,1453.51 \n",
       "  \"/>\n",
       "<polyline clip-path=\"url(#clip3402)\" style=\"stroke:#000000; stroke-width:2; stroke-opacity:0.1; fill:none\" points=\"\n",
       "  167.279,1113.83 2352.76,1113.83 \n",
       "  \"/>\n",
       "<polyline clip-path=\"url(#clip3402)\" style=\"stroke:#000000; stroke-width:2; stroke-opacity:0.1; fill:none\" points=\"\n",
       "  167.279,774.153 2352.76,774.153 \n",
       "  \"/>\n",
       "<polyline clip-path=\"url(#clip3402)\" style=\"stroke:#000000; stroke-width:2; stroke-opacity:0.1; fill:none\" points=\"\n",
       "  167.279,434.476 2352.76,434.476 \n",
       "  \"/>\n",
       "<polyline clip-path=\"url(#clip3402)\" style=\"stroke:#000000; stroke-width:2; stroke-opacity:0.1; fill:none\" points=\"\n",
       "  167.279,94.7989 2352.76,94.7989 \n",
       "  \"/>\n",
       "<polyline clip-path=\"url(#clip3400)\" style=\"stroke:#000000; stroke-width:4; stroke-opacity:1; fill:none\" points=\"\n",
       "  167.279,1487.47 2352.76,1487.47 \n",
       "  \"/>\n",
       "<polyline clip-path=\"url(#clip3400)\" style=\"stroke:#000000; stroke-width:4; stroke-opacity:1; fill:none\" points=\"\n",
       "  167.279,1487.47 167.279,47.2441 \n",
       "  \"/>\n",
       "<polyline clip-path=\"url(#clip3400)\" style=\"stroke:#000000; stroke-width:4; stroke-opacity:1; fill:none\" points=\"\n",
       "  542.978,1487.47 542.978,1470.19 \n",
       "  \"/>\n",
       "<polyline clip-path=\"url(#clip3400)\" style=\"stroke:#000000; stroke-width:4; stroke-opacity:1; fill:none\" points=\"\n",
       "  918.677,1487.47 918.677,1470.19 \n",
       "  \"/>\n",
       "<polyline clip-path=\"url(#clip3400)\" style=\"stroke:#000000; stroke-width:4; stroke-opacity:1; fill:none\" points=\"\n",
       "  1294.38,1487.47 1294.38,1470.19 \n",
       "  \"/>\n",
       "<polyline clip-path=\"url(#clip3400)\" style=\"stroke:#000000; stroke-width:4; stroke-opacity:1; fill:none\" points=\"\n",
       "  1670.07,1487.47 1670.07,1470.19 \n",
       "  \"/>\n",
       "<polyline clip-path=\"url(#clip3400)\" style=\"stroke:#000000; stroke-width:4; stroke-opacity:1; fill:none\" points=\"\n",
       "  2045.77,1487.47 2045.77,1470.19 \n",
       "  \"/>\n",
       "<polyline clip-path=\"url(#clip3400)\" style=\"stroke:#000000; stroke-width:4; stroke-opacity:1; fill:none\" points=\"\n",
       "  167.279,1453.51 193.505,1453.51 \n",
       "  \"/>\n",
       "<polyline clip-path=\"url(#clip3400)\" style=\"stroke:#000000; stroke-width:4; stroke-opacity:1; fill:none\" points=\"\n",
       "  167.279,1113.83 193.505,1113.83 \n",
       "  \"/>\n",
       "<polyline clip-path=\"url(#clip3400)\" style=\"stroke:#000000; stroke-width:4; stroke-opacity:1; fill:none\" points=\"\n",
       "  167.279,774.153 193.505,774.153 \n",
       "  \"/>\n",
       "<polyline clip-path=\"url(#clip3400)\" style=\"stroke:#000000; stroke-width:4; stroke-opacity:1; fill:none\" points=\"\n",
       "  167.279,434.476 193.505,434.476 \n",
       "  \"/>\n",
       "<polyline clip-path=\"url(#clip3400)\" style=\"stroke:#000000; stroke-width:4; stroke-opacity:1; fill:none\" points=\"\n",
       "  167.279,94.7989 193.505,94.7989 \n",
       "  \"/>\n",
       "<g clip-path=\"url(#clip3400)\">\n",
       "<text style=\"fill:#000000; fill-opacity:1; font-family:Arial,Helvetica Neue,Helvetica,sans-serif; font-size:48px; text-anchor:start;\" transform=\"rotate(0, 467.035, 1562.48)\" x=\"467.035\" y=\"1562.48\">1×10</text>\n",
       "</g>\n",
       "<g clip-path=\"url(#clip3400)\">\n",
       "<text style=\"fill:#000000; fill-opacity:1; font-family:Arial,Helvetica Neue,Helvetica,sans-serif; font-size:38px; text-anchor:start;\" transform=\"rotate(0, 575.432, 1535.07)\" x=\"575.432\" y=\"1535.07\">43</text>\n",
       "</g>\n",
       "<g clip-path=\"url(#clip3400)\">\n",
       "<text style=\"fill:#000000; fill-opacity:1; font-family:Arial,Helvetica Neue,Helvetica,sans-serif; font-size:48px; text-anchor:start;\" transform=\"rotate(0, 842.734, 1562.48)\" x=\"842.734\" y=\"1562.48\">2×10</text>\n",
       "</g>\n",
       "<g clip-path=\"url(#clip3400)\">\n",
       "<text style=\"fill:#000000; fill-opacity:1; font-family:Arial,Helvetica Neue,Helvetica,sans-serif; font-size:38px; text-anchor:start;\" transform=\"rotate(0, 951.131, 1535.07)\" x=\"951.131\" y=\"1535.07\">43</text>\n",
       "</g>\n",
       "<g clip-path=\"url(#clip3400)\">\n",
       "<text style=\"fill:#000000; fill-opacity:1; font-family:Arial,Helvetica Neue,Helvetica,sans-serif; font-size:48px; text-anchor:start;\" transform=\"rotate(0, 1218.43, 1562.48)\" x=\"1218.43\" y=\"1562.48\">3×10</text>\n",
       "</g>\n",
       "<g clip-path=\"url(#clip3400)\">\n",
       "<text style=\"fill:#000000; fill-opacity:1; font-family:Arial,Helvetica Neue,Helvetica,sans-serif; font-size:38px; text-anchor:start;\" transform=\"rotate(0, 1326.83, 1535.07)\" x=\"1326.83\" y=\"1535.07\">43</text>\n",
       "</g>\n",
       "<g clip-path=\"url(#clip3400)\">\n",
       "<text style=\"fill:#000000; fill-opacity:1; font-family:Arial,Helvetica Neue,Helvetica,sans-serif; font-size:48px; text-anchor:start;\" transform=\"rotate(0, 1594.13, 1562.48)\" x=\"1594.13\" y=\"1562.48\">4×10</text>\n",
       "</g>\n",
       "<g clip-path=\"url(#clip3400)\">\n",
       "<text style=\"fill:#000000; fill-opacity:1; font-family:Arial,Helvetica Neue,Helvetica,sans-serif; font-size:38px; text-anchor:start;\" transform=\"rotate(0, 1702.53, 1535.07)\" x=\"1702.53\" y=\"1535.07\">43</text>\n",
       "</g>\n",
       "<g clip-path=\"url(#clip3400)\">\n",
       "<text style=\"fill:#000000; fill-opacity:1; font-family:Arial,Helvetica Neue,Helvetica,sans-serif; font-size:48px; text-anchor:start;\" transform=\"rotate(0, 1969.83, 1562.48)\" x=\"1969.83\" y=\"1562.48\">5×10</text>\n",
       "</g>\n",
       "<g clip-path=\"url(#clip3400)\">\n",
       "<text style=\"fill:#000000; fill-opacity:1; font-family:Arial,Helvetica Neue,Helvetica,sans-serif; font-size:38px; text-anchor:start;\" transform=\"rotate(0, 2078.23, 1535.07)\" x=\"2078.23\" y=\"1535.07\">43</text>\n",
       "</g>\n",
       "<g clip-path=\"url(#clip3400)\">\n",
       "<text style=\"fill:#000000; fill-opacity:1; font-family:Arial,Helvetica Neue,Helvetica,sans-serif; font-size:48px; text-anchor:end;\" transform=\"rotate(0, 143.279, 1471.01)\" x=\"143.279\" y=\"1471.01\">0</text>\n",
       "</g>\n",
       "<g clip-path=\"url(#clip3400)\">\n",
       "<text style=\"fill:#000000; fill-opacity:1; font-family:Arial,Helvetica Neue,Helvetica,sans-serif; font-size:48px; text-anchor:end;\" transform=\"rotate(0, 143.279, 1131.33)\" x=\"143.279\" y=\"1131.33\">50</text>\n",
       "</g>\n",
       "<g clip-path=\"url(#clip3400)\">\n",
       "<text style=\"fill:#000000; fill-opacity:1; font-family:Arial,Helvetica Neue,Helvetica,sans-serif; font-size:48px; text-anchor:end;\" transform=\"rotate(0, 143.279, 791.653)\" x=\"143.279\" y=\"791.653\">100</text>\n",
       "</g>\n",
       "<g clip-path=\"url(#clip3400)\">\n",
       "<text style=\"fill:#000000; fill-opacity:1; font-family:Arial,Helvetica Neue,Helvetica,sans-serif; font-size:48px; text-anchor:end;\" transform=\"rotate(0, 143.279, 451.976)\" x=\"143.279\" y=\"451.976\">150</text>\n",
       "</g>\n",
       "<g clip-path=\"url(#clip3400)\">\n",
       "<text style=\"fill:#000000; fill-opacity:1; font-family:Arial,Helvetica Neue,Helvetica,sans-serif; font-size:48px; text-anchor:end;\" transform=\"rotate(0, 143.279, 112.299)\" x=\"143.279\" y=\"112.299\">200</text>\n",
       "</g>\n",
       "<polyline clip-path=\"url(#clip3402)\" style=\"stroke:#009af9; stroke-width:12; stroke-opacity:1; fill:none\" points=\"\n",
       "  167.279,1446.71 167.279,1445.35 167.279,1443.99 167.279,1442.63 167.279,1441.27 167.279,1439.91 167.279,1438.55 167.279,1437.19 167.279,1435.83 167.279,1434.47 \n",
       "  167.279,1433.11 167.279,1431.75 167.279,1430.39 167.279,1429.03 167.279,1427.67 167.279,1426.31 167.279,1424.95 167.279,1423.59 167.279,1422.23 167.279,1420.87 \n",
       "  167.279,1419.51 167.279,1418.15 167.279,1416.79 167.279,1415.43 167.279,1414.07 167.279,1412.71 167.279,1411.35 167.279,1409.99 167.279,1408.63 167.279,1407.27 \n",
       "  167.279,1405.91 167.279,1404.55 167.279,1403.19 167.279,1401.83 167.279,1400.47 167.279,1399.11 167.279,1397.75 167.279,1396.39 167.279,1395.03 167.279,1393.67 \n",
       "  167.279,1392.31 167.279,1390.95 167.279,1389.59 167.279,1388.23 167.279,1386.87 167.279,1385.51 167.279,1384.15 167.279,1382.79 167.279,1381.43 167.279,1380.07 \n",
       "  167.279,1378.71 167.279,1377.35 167.279,1375.99 167.279,1374.63 167.279,1373.27 167.279,1371.91 167.279,1370.55 167.279,1369.19 167.279,1367.83 167.279,1366.47 \n",
       "  167.279,1365.11 167.279,1363.75 167.279,1362.39 167.279,1361.03 167.279,1359.67 167.279,1358.31 167.279,1356.95 167.279,1355.59 167.279,1354.23 167.279,1352.87 \n",
       "  167.279,1351.51 167.279,1350.15 167.279,1348.79 167.279,1347.43 167.279,1346.07 167.279,1344.71 167.279,1343.35 167.279,1341.99 167.279,1340.63 167.279,1339.27 \n",
       "  167.279,1337.91 167.279,1336.55 167.279,1335.19 167.279,1333.83 167.279,1332.47 167.279,1331.11 167.279,1329.75 167.279,1328.39 167.279,1327.03 167.279,1325.67 \n",
       "  167.279,1324.31 167.279,1322.95 167.279,1321.59 167.279,1320.23 167.279,1318.87 167.279,1317.51 167.279,1316.15 167.279,1314.79 167.279,1313.43 167.279,1312.07 \n",
       "  167.279,1310.71 167.279,1309.35 167.279,1307.99 167.279,1306.63 167.279,1305.27 167.279,1303.91 167.279,1302.55 167.279,1301.19 167.279,1299.83 167.279,1298.47 \n",
       "  167.279,1297.11 167.279,1295.75 167.279,1294.39 167.279,1293.03 167.279,1291.67 167.279,1290.31 167.279,1288.95 167.279,1287.59 167.279,1286.23 167.279,1284.87 \n",
       "  167.279,1283.51 167.279,1282.15 167.279,1280.79 167.279,1279.43 167.279,1278.07 167.279,1276.7 167.279,1275.34 167.279,1273.98 167.279,1272.62 167.279,1271.26 \n",
       "  167.279,1269.9 167.279,1268.54 167.279,1267.18 167.279,1265.82 167.279,1264.46 167.279,1263.1 167.279,1261.74 167.279,1260.38 167.279,1259.02 167.279,1257.66 \n",
       "  167.279,1256.3 167.279,1254.94 167.279,1253.58 167.279,1252.22 167.279,1250.86 167.279,1249.5 167.279,1248.14 167.279,1246.78 167.279,1245.42 167.279,1244.06 \n",
       "  167.279,1242.7 167.279,1241.34 167.279,1239.98 167.279,1238.62 167.279,1237.26 167.279,1235.9 167.279,1234.54 167.279,1233.18 167.279,1231.82 167.279,1230.46 \n",
       "  167.279,1229.1 167.279,1227.74 167.279,1226.38 167.279,1225.02 167.279,1223.66 167.279,1222.3 167.279,1220.94 167.279,1219.58 167.279,1218.22 167.279,1216.86 \n",
       "  167.279,1215.5 167.279,1214.14 167.279,1212.78 167.279,1211.42 167.279,1210.06 167.279,1208.7 167.279,1207.34 167.279,1205.98 167.279,1204.62 167.279,1203.26 \n",
       "  167.279,1201.9 167.279,1200.54 167.279,1199.18 167.279,1197.82 167.279,1196.46 167.279,1195.1 167.279,1193.74 167.279,1192.38 167.279,1191.02 167.279,1189.66 \n",
       "  167.279,1188.3 167.279,1186.94 167.279,1185.58 167.279,1184.22 167.279,1182.86 167.279,1181.5 167.279,1180.14 167.279,1178.78 167.279,1177.42 167.279,1176.06 \n",
       "  167.279,1174.7 167.279,1173.34 167.279,1171.98 167.279,1170.62 167.279,1169.26 167.279,1167.9 167.279,1166.54 167.279,1165.18 167.279,1163.82 167.279,1162.46 \n",
       "  167.279,1161.1 167.279,1159.74 167.279,1158.38 167.279,1157.02 167.279,1155.66 167.279,1154.3 167.279,1152.94 167.279,1151.58 167.279,1150.22 167.279,1148.86 \n",
       "  167.279,1147.5 167.279,1146.14 167.279,1144.78 167.279,1143.42 167.279,1142.06 167.279,1140.7 167.279,1139.34 167.279,1137.98 167.279,1136.62 167.279,1135.26 \n",
       "  167.279,1133.9 167.279,1132.54 167.279,1131.18 167.279,1129.82 167.279,1128.46 167.279,1127.1 167.279,1125.74 167.279,1124.38 167.279,1123.02 167.279,1121.66 \n",
       "  167.279,1120.3 167.279,1118.94 167.279,1117.58 167.279,1116.22 167.279,1114.86 167.279,1113.5 167.279,1112.14 167.279,1110.78 167.279,1109.42 167.279,1108.06 \n",
       "  167.279,1106.7 167.279,1105.34 167.279,1103.98 167.279,1102.62 167.279,1101.26 167.279,1099.9 167.279,1098.54 167.279,1097.18 167.279,1095.82 167.279,1094.46 \n",
       "  167.279,1093.1 167.279,1091.74 167.279,1090.38 167.279,1089.02 167.279,1087.66 167.279,1086.3 167.279,1084.94 167.279,1083.58 167.279,1082.22 167.279,1080.86 \n",
       "  167.279,1079.5 167.279,1078.13 167.279,1076.77 167.279,1075.41 167.279,1074.05 167.279,1072.69 167.279,1071.33 167.279,1069.97 167.279,1068.61 167.279,1067.25 \n",
       "  167.279,1065.89 167.279,1064.53 167.279,1063.17 167.279,1061.81 167.279,1060.45 167.279,1059.09 167.279,1057.73 167.279,1056.37 167.279,1055.01 167.279,1053.65 \n",
       "  167.279,1052.29 167.279,1050.93 167.279,1049.57 167.279,1048.21 167.279,1046.85 167.279,1045.49 167.279,1044.13 167.279,1042.77 167.279,1041.41 167.279,1040.05 \n",
       "  167.279,1038.69 167.279,1037.33 167.279,1035.97 167.279,1034.61 167.279,1033.25 167.279,1031.89 167.279,1030.53 167.279,1029.17 167.279,1027.81 167.279,1026.45 \n",
       "  167.279,1025.09 167.279,1023.73 167.279,1022.37 167.279,1021.01 167.279,1019.65 167.279,1018.29 167.279,1016.93 167.279,1015.57 167.279,1014.21 167.279,1012.85 \n",
       "  167.279,1011.49 167.279,1010.13 167.279,1008.77 167.279,1007.41 167.279,1006.05 167.279,1004.69 167.279,1003.33 167.279,1001.97 167.279,1000.61 167.279,999.251 \n",
       "  167.279,997.891 167.279,996.531 167.279,995.171 167.279,993.811 167.279,992.451 167.279,991.091 167.279,989.731 167.279,988.37 167.279,987.01 167.279,985.65 \n",
       "  167.279,984.29 167.279,982.93 167.279,981.57 167.279,980.21 167.279,978.85 167.279,977.49 167.279,976.13 167.279,974.77 167.279,973.41 167.279,972.05 \n",
       "  167.279,970.69 167.279,969.33 167.279,967.969 167.279,966.609 167.279,965.249 167.279,963.889 167.279,962.529 167.279,961.169 167.279,959.809 167.279,958.449 \n",
       "  167.279,957.089 167.279,955.729 167.279,954.369 167.279,953.009 167.279,951.649 167.279,950.289 167.279,948.929 167.279,947.568 167.279,946.208 167.279,944.848 \n",
       "  167.279,943.488 167.279,942.128 167.279,940.768 167.279,939.408 167.279,938.048 167.279,936.688 167.279,935.328 167.279,933.968 167.279,932.608 167.279,931.248 \n",
       "  167.279,929.888 167.279,928.527 167.279,927.167 167.279,925.807 167.279,924.447 167.279,923.087 167.279,921.727 167.279,920.367 167.279,919.007 167.279,917.647 \n",
       "  167.279,916.287 167.279,914.927 167.279,913.567 167.279,912.207 167.279,910.847 167.279,909.487 167.279,908.126 167.279,906.766 167.279,905.406 167.279,904.046 \n",
       "  167.279,902.686 167.279,901.326 167.279,899.966 167.279,898.606 167.279,897.246 167.279,895.886 167.279,894.526 167.279,893.166 167.279,891.806 167.279,890.446 \n",
       "  167.279,889.086 167.279,887.725 167.279,886.365 167.279,885.005 167.279,883.645 167.279,882.285 167.279,880.925 167.279,879.565 167.279,878.205 167.279,876.845 \n",
       "  167.279,875.485 167.279,874.125 167.279,872.765 167.279,871.405 167.279,870.045 167.279,868.684 167.279,867.324 167.279,865.964 167.279,864.604 167.279,863.244 \n",
       "  167.279,861.884 167.279,860.524 167.279,859.164 167.279,857.804 167.279,856.444 167.279,855.084 167.279,853.724 167.279,852.364 167.279,851.004 167.279,849.644 \n",
       "  167.279,848.283 167.279,846.923 167.279,845.563 167.279,844.203 167.279,842.843 167.279,841.483 167.279,840.123 167.279,838.763 167.279,837.403 167.279,836.043 \n",
       "  167.279,834.683 167.279,833.323 167.279,831.963 167.279,830.603 167.279,829.243 167.279,827.882 167.279,826.522 167.279,825.162 167.279,823.802 167.279,822.442 \n",
       "  167.279,821.082 167.279,819.722 167.279,818.362 167.279,817.002 167.279,815.642 167.279,814.282 167.279,812.922 167.279,811.562 167.279,810.202 167.279,808.841 \n",
       "  167.279,807.481 167.279,806.121 167.279,804.761 167.279,803.401 167.279,802.041 167.279,800.681 167.279,799.321 167.279,797.961 167.279,796.601 167.279,795.241 \n",
       "  167.279,793.881 167.279,792.521 167.279,791.161 167.279,789.801 167.279,788.44 167.279,787.08 167.279,785.72 167.279,784.36 167.279,783 167.279,781.64 \n",
       "  167.279,780.28 167.279,778.92 167.279,777.56 167.279,776.2 167.279,774.84 167.279,773.48 167.279,772.12 167.279,770.76 167.279,769.4 167.279,768.039 \n",
       "  167.279,766.679 167.279,765.319 167.279,763.959 167.279,762.599 167.279,761.239 167.279,759.879 167.279,758.519 167.279,757.159 167.279,755.799 167.279,754.439 \n",
       "  167.279,753.079 167.279,751.719 167.279,750.359 167.279,748.998 167.279,747.638 167.279,746.278 167.279,744.918 167.279,743.558 167.279,742.198 167.279,740.838 \n",
       "  167.279,739.478 167.279,738.118 167.279,736.758 167.279,735.398 167.279,734.038 167.279,732.678 167.279,731.318 167.279,729.958 167.279,728.597 167.279,727.237 \n",
       "  167.279,725.877 167.279,724.517 167.279,723.157 167.279,721.797 167.279,720.437 167.279,719.077 167.279,717.717 167.279,716.357 167.279,714.997 167.279,713.637 \n",
       "  167.279,712.277 167.279,710.917 167.279,709.557 167.279,708.196 167.279,706.836 167.279,705.476 167.279,704.116 167.279,702.756 167.279,701.396 167.279,700.036 \n",
       "  167.279,698.676 167.279,697.316 167.279,695.956 167.279,694.596 167.279,693.236 167.279,691.876 167.279,690.516 167.279,689.155 167.279,687.795 167.279,686.435 \n",
       "  167.279,685.075 167.279,683.715 167.279,682.355 167.279,680.995 167.279,679.635 167.279,678.275 167.279,676.915 167.279,675.555 167.279,674.195 167.279,672.835 \n",
       "  167.279,671.475 167.279,670.115 167.279,668.754 167.279,667.394 167.279,666.034 167.279,664.674 167.279,663.314 167.279,661.954 167.279,660.594 167.279,659.234 \n",
       "  167.279,657.874 167.279,656.514 167.279,655.154 167.279,653.794 167.279,652.434 167.279,651.074 167.279,649.714 167.279,648.353 167.279,646.993 167.279,645.633 \n",
       "  167.279,644.273 167.279,642.913 167.279,641.553 167.279,640.193 167.279,638.833 167.279,637.473 167.279,636.113 167.279,634.753 167.279,633.393 167.279,632.033 \n",
       "  167.279,630.673 167.279,629.312 167.279,627.952 167.279,626.592 167.279,625.232 167.279,623.872 167.279,622.512 167.279,621.152 167.279,619.792 167.279,618.432 \n",
       "  167.279,617.072 167.279,615.712 167.279,614.352 167.279,612.992 167.279,611.632 167.279,610.272 167.279,608.911 167.279,607.551 167.279,606.191 167.279,604.831 \n",
       "  167.279,603.471 167.279,602.111 167.279,600.751 167.279,599.391 167.279,598.031 167.279,596.671 167.279,595.311 167.279,593.951 167.279,592.591 167.279,591.231 \n",
       "  167.279,589.871 167.279,588.51 167.279,587.15 167.279,585.79 167.279,584.43 167.279,583.07 167.279,581.71 167.279,580.35 167.279,578.99 167.279,577.63 \n",
       "  167.279,576.27 167.279,574.91 167.279,573.55 167.279,572.19 167.279,570.83 167.279,569.469 167.279,568.109 167.279,566.749 167.279,565.389 167.279,564.029 \n",
       "  167.279,562.669 167.279,561.309 167.279,559.949 167.279,558.589 167.279,557.229 167.279,555.869 167.279,554.509 167.279,553.149 167.279,551.789 167.279,550.429 \n",
       "  167.279,549.068 167.279,547.708 167.279,546.348 167.279,544.988 167.279,543.628 167.279,542.268 167.279,540.908 167.279,539.548 167.279,538.188 167.279,536.828 \n",
       "  167.279,535.468 167.279,534.108 167.279,532.748 167.279,531.388 167.279,530.028 167.279,528.667 167.279,527.307 167.279,525.947 167.279,524.587 167.279,523.227 \n",
       "  167.279,521.867 167.279,520.507 167.279,519.147 167.279,517.787 167.279,516.427 167.279,515.067 167.279,513.707 167.279,512.347 167.279,510.987 167.279,509.626 \n",
       "  167.279,508.266 167.279,506.906 167.279,505.546 167.279,504.186 167.279,502.826 167.279,501.466 167.279,500.106 167.279,498.746 167.279,497.386 167.279,496.026 \n",
       "  167.279,494.666 167.279,493.306 167.279,491.946 167.279,490.586 167.279,489.225 167.279,487.865 167.279,486.505 167.279,485.145 167.279,483.785 167.279,482.425 \n",
       "  167.279,481.065 167.279,479.705 167.279,478.345 167.279,476.985 167.279,475.625 167.279,474.265 167.279,472.905 167.279,471.545 167.279,470.185 167.279,468.824 \n",
       "  167.279,467.464 167.279,466.104 167.279,464.744 167.279,463.384 167.279,462.024 167.279,460.664 167.279,459.304 167.279,457.944 167.279,456.584 167.279,455.224 \n",
       "  167.279,453.864 167.279,452.504 167.279,451.144 167.279,449.783 167.279,448.423 167.279,447.063 167.279,445.703 167.279,444.343 167.279,442.983 167.279,441.623 \n",
       "  167.279,440.263 167.279,438.903 167.279,437.543 167.279,436.183 167.279,434.823 167.279,433.463 167.279,432.103 167.279,430.743 167.279,429.382 167.279,428.022 \n",
       "  167.279,426.662 167.279,425.302 167.279,423.942 167.279,422.582 167.279,421.222 167.279,419.862 167.279,418.502 167.279,417.142 167.279,415.782 167.279,414.422 \n",
       "  167.279,413.062 167.279,411.702 167.279,410.342 167.279,408.981 167.279,407.621 167.279,406.261 167.279,404.901 167.279,403.541 167.279,402.181 167.279,400.821 \n",
       "  167.279,399.461 167.279,398.101 167.279,396.741 167.279,395.381 167.279,394.021 167.279,392.661 167.279,391.301 167.279,389.94 167.279,388.58 167.279,387.22 \n",
       "  167.279,385.86 167.279,384.5 167.279,383.14 167.279,381.78 167.279,380.42 167.279,379.06 167.279,377.7 167.279,376.34 167.279,374.98 167.279,373.62 \n",
       "  167.279,372.26 167.279,370.9 167.279,369.539 167.279,368.179 167.279,366.819 167.279,365.459 167.279,364.099 167.279,362.739 167.279,361.379 167.279,360.019 \n",
       "  167.279,358.659 167.279,357.299 167.279,355.939 167.279,354.579 167.279,353.219 167.279,351.859 167.279,350.499 167.279,349.138 167.279,347.778 167.279,346.418 \n",
       "  167.279,345.058 167.279,343.698 167.279,342.338 167.279,340.978 167.279,339.618 167.279,338.258 167.279,336.898 167.279,335.538 167.279,334.178 167.279,332.818 \n",
       "  167.279,331.458 167.279,330.097 167.279,328.737 167.279,327.377 167.279,326.017 167.279,324.657 167.279,323.297 167.279,321.937 167.279,320.577 167.279,319.217 \n",
       "  167.279,317.857 167.279,316.497 167.279,315.137 167.279,313.777 167.279,312.417 167.279,311.057 167.279,309.696 167.279,308.336 167.279,306.976 167.279,305.616 \n",
       "  167.279,304.256 167.279,302.896 167.279,301.536 167.279,300.176 167.28,298.816 167.28,297.456 167.28,296.096 167.28,294.736 167.28,293.376 167.28,292.016 \n",
       "  167.28,290.656 167.28,289.295 167.28,287.935 167.28,286.575 167.28,285.215 167.28,283.855 167.28,282.495 167.28,281.135 167.281,279.775 167.281,278.415 \n",
       "  167.281,277.055 167.281,275.695 167.281,274.335 167.282,272.975 167.282,271.615 167.282,270.254 167.282,268.894 167.283,267.534 167.283,266.174 167.284,264.814 \n",
       "  167.284,263.454 167.285,262.094 167.285,260.734 167.286,259.374 167.286,258.014 167.287,256.654 167.288,255.294 167.289,253.934 167.29,252.574 167.291,251.214 \n",
       "  167.293,249.853 167.294,248.493 167.295,247.133 167.297,245.773 167.299,244.413 167.301,243.053 167.303,241.693 167.306,240.333 167.309,238.973 167.312,237.613 \n",
       "  167.315,236.253 167.319,234.893 167.324,233.533 167.328,232.173 167.333,230.813 167.339,229.452 167.345,228.092 167.352,226.732 167.36,225.372 167.369,224.012 \n",
       "  167.378,222.652 167.388,221.292 167.4,219.932 167.413,218.572 167.427,217.212 167.442,215.852 167.459,214.492 167.478,213.132 167.499,211.772 167.522,210.411 \n",
       "  167.548,209.051 167.576,207.691 167.608,206.331 167.642,204.971 167.681,203.611 167.723,202.251 167.77,200.891 167.821,199.531 167.878,198.171 167.941,196.811 \n",
       "  168.011,195.451 168.088,194.091 168.173,192.731 168.267,191.371 168.371,190.01 168.486,188.65 168.613,187.29 168.754,185.93 168.909,184.57 169.081,183.21 \n",
       "  169.27,181.85 169.479,180.49 169.711,179.13 169.966,177.77 170.249,176.41 170.562,175.05 170.908,173.69 171.291,172.33 171.713,170.969 172.18,169.609 \n",
       "  172.696,168.249 173.266,166.889 173.896,165.529 174.591,164.169 175.36,162.809 176.21,161.449 177.15,160.089 178.189,158.729 179.339,157.369 180.611,156.009 \n",
       "  182.015,154.649 183.567,153.289 185.282,151.929 187.176,150.568 189.268,149.208 191.58,147.848 194.134,146.488 196.959,145.128 200.082,143.768 203.538,142.408 \n",
       "  207.359,141.048 211.583,139.688 216.252,138.328 221.409,136.968 227.108,135.608 233.404,134.248 240.358,132.888 248.04,131.528 256.529,130.167 265.915,128.807 \n",
       "  276.296,127.447 287.777,126.087 300.475,124.727 314.515,123.367 330.03,122.007 347.169,120.647 366.113,119.287 387.038,117.927 410.149,116.567 435.68,115.207 \n",
       "  463.893,113.847 495.085,112.487 529.579,111.126 567.732,109.766 609.929,108.406 656.587,107.046 708.153,105.686 765.113,104.326 828.071,102.966 897.622,101.606 \n",
       "  974.435,100.246 1059.29,98.8859 1153.05,97.5258 1256.7,96.1657 1371.33,94.8057 1498.11,93.4456 1638.34,92.0855 1793.39,90.7255 1964.77,89.3654 2154.08,88.0053 \n",
       "  \n",
       "  \"/>\n",
       "<path clip-path=\"url(#clip3400)\" d=\"\n",
       "M1888.27 251.724 L2280.76 251.724 L2280.76 130.764 L1888.27 130.764  Z\n",
       "  \" fill=\"#ffffff\" fill-rule=\"evenodd\" fill-opacity=\"1\"/>\n",
       "<polyline clip-path=\"url(#clip3400)\" style=\"stroke:#000000; stroke-width:4; stroke-opacity:1; fill:none\" points=\"\n",
       "  1888.27,251.724 2280.76,251.724 2280.76,130.764 1888.27,130.764 1888.27,251.724 \n",
       "  \"/>\n",
       "<polyline clip-path=\"url(#clip3400)\" style=\"stroke:#009af9; stroke-width:12; stroke-opacity:1; fill:none\" points=\"\n",
       "  1912.27,191.244 2056.27,191.244 \n",
       "  \"/>\n",
       "<g clip-path=\"url(#clip3400)\">\n",
       "<text style=\"fill:#000000; fill-opacity:1; font-family:Arial,Helvetica Neue,Helvetica,sans-serif; font-size:48px; text-anchor:start;\" transform=\"rotate(0, 2080.27, 208.744)\" x=\"2080.27\" y=\"208.744\">(u1,u2)</text>\n",
       "</g>\n",
       "</svg>\n"
      ]
     },
     "execution_count": 9,
     "metadata": {},
     "output_type": "execute_result"
    }
   ],
   "source": [
    "@derivatives D3'''~t\n",
    "@derivatives D2''~t\n",
    "@variables u(t), x(t)\n",
    "eqs = [D3(u) ~ 2(D2(u)) + D(u) + D(x) + 1\n",
    "       D2(x) ~ D(x) + 2]\n",
    "de = ODESystem(eqs, t, [u,x], [])\n",
    "de1 = ode_order_lowering(de)\n",
    "ode_f = ODEFunction(de1)\n",
    "\n",
    "### Use in DifferentialEquations.jl\n",
    "\n",
    "using OrdinaryDiffEq\n",
    "u₀ = ones(3)\n",
    "tspan = (0.0,100.0)\n",
    "p = [10.0,28.0,10/3]\n",
    "prob = ODEProblem(ode_f,u₀,tspan,p)\n",
    "sol = solve(prob,Tsit5())\n",
    "\n",
    "using Plots\n",
    "plot(sol,vars=(1,2))"
   ]
  },
  {
   "cell_type": "code",
   "execution_count": null,
   "metadata": {},
   "outputs": [],
   "source": [
    "using OrdinaryDiffEq, LinearAlgebra, ForwardDiff, Plots; gr()\n",
    "H(q,p) = norm(p)^2/2 - inv(norm(q))\n",
    "\n",
    "# TODO: implement H function\n",
    "\n",
    "# We add the following equations, with some additional ones being optional adding additional calculated parameters during the raytace\n",
    "rdot(dr,r,k,params,tau) = ForwardDiff.gradient!(dr, k->-H(r, k), k)\n",
    "kdot(dk,r,k,params,tau) = ForwardDiff.gradient!(dq, r-> H(r, k), r)\n",
    "\n",
    "initial_position = [.4, 0]\n",
    "initial_velocity = [0., 2.]\n",
    "initial_cond = (initial_position, initial_velocity)\n",
    "initial_first_integrals = (H(initial_cond...), L(initial_cond...))\n",
    "tspan = (0,20.)\n",
    "prob = DynamicalODEProblem(pdot, qdot, initial_velocity, initial_position, tspan)"
   ]
  }
 ],
 "metadata": {
  "kernelspec": {
   "display_name": "Julia 1.3.1",
   "language": "julia",
   "name": "julia-1.3"
  },
  "language_info": {
   "file_extension": ".jl",
   "mimetype": "application/julia",
   "name": "julia",
   "version": "1.3.1"
  }
 },
 "nbformat": 4,
 "nbformat_minor": 2
}
