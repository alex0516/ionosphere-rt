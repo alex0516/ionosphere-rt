{
 "cells": [
  {
   "cell_type": "markdown",
   "metadata": {},
   "source": [
    "# Ionospheric Raytracing\n",
    "\n",
    "The idea is to set up equations to simulate the ray of an ionosonde as it travels through the atmosphere.\n",
    "\n",
    "## Introduction\n",
    "\n",
    "There are several basic steps to the algorithm.\n",
    "\n",
    "1. Outline the generic iteration/integration solving process. (In FORTRAN they did this manually, here we don't, we just specify the problem to solve)\n",
    "2. The problem is as follows: calculate the Hamiltonian as defined in the paper\n",
    "3. The Hamiltonian requires the calculation of the refractive index for a given discrete grid box using a given ionospheric model\n",
    "\n",
    "\n",
    "## solving\n",
    "\n",
    "## Hamiltonian\n",
    "\n",
    "The Hamiltonian is defined in equation A.7 in the paper."
   ]
  },
  {
   "cell_type": "code",
   "execution_count": 1,
   "metadata": {},
   "outputs": [
    {
     "ename": "MethodError",
     "evalue": "MethodError: no method matching GenerateHamiltonian(::Int64, ::Int64)\nClosest candidates are:\n  GenerateHamiltonian(::Any) at In[1]:5",
     "output_type": "error",
     "traceback": [
      "MethodError: no method matching GenerateHamiltonian(::Int64, ::Int64)\nClosest candidates are:\n  GenerateHamiltonian(::Any) at In[1]:5",
      "",
      "Stacktrace:",
      " [1] top-level scope at In[1]:10"
     ]
    }
   ],
   "source": [
    "using PhysicalConstants.CODATA2018\n",
    "using DiffEqPhysics\n",
    "using DifferentialEquations\n",
    "function GenerateHamiltonian(freq)\n",
    "    function Hamiltonian((r, theta, phi), (k_r, k_theta, k_phi))\n",
    "        1/2((SpeedOfLightInVacuum^2/freq^2)(k_r^2 + k_theta^2 + k_phi^2) - n^2)\n",
    "    end\n",
    "    return Hamiltonian\n",
    "end\n",
    "\n",
    "prob = HamiltonianProblem(GenerateHamiltonian(0, 0), (0,0,0), (0,0,0), (0.0, 1.0))"
   ]
  },
  {
   "cell_type": "markdown",
   "metadata": {},
   "source": [
    "## Refractive Index\n",
    "\n",
    "Using the Appleton–Hartree equation:\n",
    "\n",
    "$$\n",
    "n^2 = 1 - \\frac{X}{1 - iZ - \\frac{\\frac{1}{2}Y^2\\sin^2\\theta}{1 - X - iZ} \\pm \\frac{1}{1 - X - iZ}\\left(\\frac{1}{4}Y^4\\sin^4\\theta + Y^2\\cos^2\\theta\\left(1 - X - iZ\\right)^2\\right)^{1/2}}\n",
    "$$\n",
    "\n",
    "where\n",
    "\n",
    "\n",
    "$$ n = \\textbf{complex refractive index} $$\n",
    "\n",
    "$$ i = \\sqrt{-1} $$\n",
    "\n",
    "$$ X = \\frac{\\omega_0^2}{\\omega^2} $$\n",
    "\n",
    "$$ Y = \\frac{\\omega_H}{\\omega} $$\n",
    "\n",
    "$$ Z = \\frac{\\nu}{\\omega} $$\n",
    "\n",
    "$$ \\nu  = \\textbf{electron collision frequency} $$\n",
    "\n",
    "$$ \\omega = 2\\pi f = \\textbf{(radial frequency)} $$ \n",
    "\n",
    "$$ f  = \\textbf{wave frequency (cycles per second, or Hertz)} $$\n",
    "\n",
    "\n",
    "$$ \\omega_0 = 2\\pi f_0 = \\sqrt{\\frac{Ne^2}{\\epsilon_0 m}}  = \\textbf{electron plasma frequency} $$\n",
    "\n",
    "$$ \\omega_H = 2\\pi f_H = \\frac{B_0 |e|}{m} = \\textbf{electron gyro frequency} $$\n",
    "\n",
    "$$ \\epsilon_0 = \\textbf{permitivity of free space}$$ \n",
    "\n",
    "$$ B_0  = \\textbf{ambient magnetic field strength} $$\n",
    "\n",
    "$$ e = \\textbf{electron charge} $$\n",
    "\n",
    "$$ m = \\textbf{electron mass} $$\n",
    "\n",
    "$$ \\theta = \\textbf{angle between the ambient magnetic field vector and the wave vector} $$"
   ]
  },
  {
   "cell_type": "code",
   "execution_count": 5,
   "metadata": {},
   "outputs": [
    {
     "data": {
      "text/plain": [
       "3.182607353999257e16 C^2 m F^-1 kg^-1"
      ]
     },
     "execution_count": 5,
     "metadata": {},
     "output_type": "execute_result"
    }
   ],
   "source": [
    "density = 10e12\n",
    "\n",
    "(density*ElementaryCharge^2)/(ElectronMass*VacuumElectricPermittivity)"
   ]
  },
  {
   "cell_type": "code",
   "execution_count": null,
   "metadata": {},
   "outputs": [],
   "source": [
    "ElementaryCharge.value"
   ]
  },
  {
   "cell_type": "markdown",
   "metadata": {},
   "source": [
    "The above should be around 9 Mhz"
   ]
  },
  {
   "cell_type": "code",
   "execution_count": null,
   "metadata": {},
   "outputs": [],
   "source": [
    "function RefractiveIndex()\n",
    "\n",
    "end"
   ]
  }
 ],
 "metadata": {
  "kernelspec": {
   "display_name": "Julia 1.3.1",
   "language": "julia",
   "name": "julia-1.3"
  },
  "language_info": {
   "file_extension": ".jl",
   "mimetype": "application/julia",
   "name": "julia",
   "version": "1.3.1"
  }
 },
 "nbformat": 4,
 "nbformat_minor": 2
}
